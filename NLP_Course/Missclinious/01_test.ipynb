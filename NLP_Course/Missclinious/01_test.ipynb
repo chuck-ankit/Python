{
 "cells": [
  {
   "cell_type": "code",
   "execution_count": 1,
   "metadata": {},
   "outputs": [
    {
     "name": "stdout",
     "output_type": "stream",
     "text": [
      "Collecting transformers\n",
      "  Downloading transformers-4.35.0-py3-none-any.whl.metadata (123 kB)\n",
      "     ---------------------------------------- 0.0/123.1 kB ? eta -:--:--\n",
      "     --- ------------------------------------ 10.2/123.1 kB ? eta -:--:--\n",
      "     --------- --------------------------- 30.7/123.1 kB 330.3 kB/s eta 0:00:01\n",
      "     --------- --------------------------- 30.7/123.1 kB 330.3 kB/s eta 0:00:01\n",
      "     --------- --------------------------- 30.7/123.1 kB 330.3 kB/s eta 0:00:01\n",
      "     --------- --------------------------- 30.7/123.1 kB 330.3 kB/s eta 0:00:01\n",
      "     --------- --------------------------- 30.7/123.1 kB 330.3 kB/s eta 0:00:01\n",
      "     ------------ ------------------------ 41.0/123.1 kB 109.3 kB/s eta 0:00:01\n",
      "     ------------------ ------------------ 61.4/123.1 kB 156.1 kB/s eta 0:00:01\n",
      "     ------------------------ ------------ 81.9/123.1 kB 191.1 kB/s eta 0:00:01\n",
      "     --------------------------- --------- 92.2/123.1 kB 201.8 kB/s eta 0:00:01\n",
      "     --------------------------- --------- 92.2/123.1 kB 201.8 kB/s eta 0:00:01\n",
      "     --------------------------- --------- 92.2/123.1 kB 201.8 kB/s eta 0:00:01\n",
      "     ------------------------------------ 123.1/123.1 kB 190.3 kB/s eta 0:00:00\n",
      "Requirement already satisfied: filelock in c:\\programdata\\anaconda3\\envs\\superenv\\lib\\site-packages (from transformers) (3.9.0)\n",
      "Collecting huggingface-hub<1.0,>=0.16.4 (from transformers)\n",
      "  Downloading huggingface_hub-0.19.0-py3-none-any.whl.metadata (13 kB)\n",
      "Requirement already satisfied: numpy>=1.17 in c:\\programdata\\anaconda3\\envs\\superenv\\lib\\site-packages (from transformers) (1.24.3)\n",
      "Requirement already satisfied: packaging>=20.0 in c:\\programdata\\anaconda3\\envs\\superenv\\lib\\site-packages (from transformers) (23.1)\n",
      "Requirement already satisfied: pyyaml>=5.1 in c:\\programdata\\anaconda3\\envs\\superenv\\lib\\site-packages (from transformers) (6.0.1)\n",
      "Requirement already satisfied: regex!=2019.12.17 in c:\\programdata\\anaconda3\\envs\\superenv\\lib\\site-packages (from transformers) (2023.8.8)\n",
      "Requirement already satisfied: requests in c:\\programdata\\anaconda3\\envs\\superenv\\lib\\site-packages (from transformers) (2.31.0)\n",
      "Collecting tokenizers<0.15,>=0.14 (from transformers)\n",
      "  Downloading tokenizers-0.14.1-cp310-none-win_amd64.whl.metadata (6.8 kB)\n",
      "Collecting safetensors>=0.3.1 (from transformers)\n",
      "  Downloading safetensors-0.4.0-cp310-none-win_amd64.whl.metadata (3.8 kB)\n",
      "Requirement already satisfied: tqdm>=4.27 in c:\\programdata\\anaconda3\\envs\\superenv\\lib\\site-packages (from transformers) (4.66.1)\n",
      "Requirement already satisfied: fsspec>=2023.5.0 in c:\\programdata\\anaconda3\\envs\\superenv\\lib\\site-packages (from huggingface-hub<1.0,>=0.16.4->transformers) (2023.9.2)\n",
      "Requirement already satisfied: typing-extensions>=3.7.4.3 in c:\\programdata\\anaconda3\\envs\\superenv\\lib\\site-packages (from huggingface-hub<1.0,>=0.16.4->transformers) (4.7.1)\n",
      "Collecting huggingface-hub<1.0,>=0.16.4 (from transformers)\n",
      "  Downloading huggingface_hub-0.17.3-py3-none-any.whl.metadata (13 kB)\n",
      "Requirement already satisfied: colorama in c:\\programdata\\anaconda3\\envs\\superenv\\lib\\site-packages (from tqdm>=4.27->transformers) (0.4.6)\n",
      "Requirement already satisfied: charset-normalizer<4,>=2 in c:\\programdata\\anaconda3\\envs\\superenv\\lib\\site-packages (from requests->transformers) (2.0.4)\n",
      "Requirement already satisfied: idna<4,>=2.5 in c:\\programdata\\anaconda3\\envs\\superenv\\lib\\site-packages (from requests->transformers) (3.4)\n",
      "Requirement already satisfied: urllib3<3,>=1.21.1 in c:\\programdata\\anaconda3\\envs\\superenv\\lib\\site-packages (from requests->transformers) (1.26.16)\n",
      "Requirement already satisfied: certifi>=2017.4.17 in c:\\programdata\\anaconda3\\envs\\superenv\\lib\\site-packages (from requests->transformers) (2023.7.22)\n",
      "Downloading transformers-4.35.0-py3-none-any.whl (7.9 MB)\n",
      "   ---------------------------------------- 0.0/7.9 MB ? eta -:--:--\n",
      "    --------------------------------------- 0.1/7.9 MB 3.6 MB/s eta 0:00:03\n",
      "    --------------------------------------- 0.1/7.9 MB 2.8 MB/s eta 0:00:03\n",
      "    --------------------------------------- 0.1/7.9 MB 2.8 MB/s eta 0:00:03\n",
      "    --------------------------------------- 0.1/7.9 MB 2.8 MB/s eta 0:00:03\n",
      "    --------------------------------------- 0.1/7.9 MB 2.8 MB/s eta 0:00:03\n",
      "    --------------------------------------- 0.1/7.9 MB 2.8 MB/s eta 0:00:03\n",
      "    --------------------------------------- 0.2/7.9 MB 437.1 kB/s eta 0:00:18\n",
      "   - -------------------------------------- 0.3/7.9 MB 655.4 kB/s eta 0:00:12\n",
      "   - -------------------------------------- 0.4/7.9 MB 825.0 kB/s eta 0:00:10\n",
      "   -- ------------------------------------- 0.4/7.9 MB 881.6 kB/s eta 0:00:09\n",
      "   -- ------------------------------------- 0.4/7.9 MB 881.6 kB/s eta 0:00:09\n",
      "   -- ------------------------------------- 0.4/7.9 MB 881.6 kB/s eta 0:00:09\n",
      "   -- ------------------------------------- 0.4/7.9 MB 881.6 kB/s eta 0:00:09\n",
      "   -- ------------------------------------- 0.5/7.9 MB 704.5 kB/s eta 0:00:11\n",
      "   -- ------------------------------------- 0.6/7.9 MB 804.9 kB/s eta 0:00:10\n",
      "   --- ------------------------------------ 0.8/7.9 MB 1.0 MB/s eta 0:00:07\n",
      "   ---- ----------------------------------- 0.9/7.9 MB 1.2 MB/s eta 0:00:06\n",
      "   ---- ----------------------------------- 0.9/7.9 MB 1.2 MB/s eta 0:00:06\n",
      "   ---- ----------------------------------- 0.9/7.9 MB 1.2 MB/s eta 0:00:06\n",
      "   ---- ----------------------------------- 1.0/7.9 MB 1.0 MB/s eta 0:00:07\n",
      "   ----- ---------------------------------- 1.1/7.9 MB 1.1 MB/s eta 0:00:07\n",
      "   ------ --------------------------------- 1.3/7.9 MB 1.2 MB/s eta 0:00:06\n",
      "   -------- ------------------------------- 1.6/7.9 MB 1.5 MB/s eta 0:00:05\n",
      "   --------- ------------------------------ 1.9/7.9 MB 1.7 MB/s eta 0:00:04\n",
      "   --------- ------------------------------ 2.0/7.9 MB 1.7 MB/s eta 0:00:04\n",
      "   ---------- ----------------------------- 2.0/7.9 MB 1.6 MB/s eta 0:00:04\n",
      "   ---------- ----------------------------- 2.1/7.9 MB 1.7 MB/s eta 0:00:04\n",
      "   ----------- ---------------------------- 2.2/7.9 MB 1.7 MB/s eta 0:00:04\n",
      "   ------------- -------------------------- 2.6/7.9 MB 1.9 MB/s eta 0:00:03\n",
      "   --------------- ------------------------ 3.1/7.9 MB 2.2 MB/s eta 0:00:03\n",
      "   -------------------- ------------------- 4.0/7.9 MB 2.7 MB/s eta 0:00:02\n",
      "   -------------------- ------------------- 4.1/7.9 MB 2.7 MB/s eta 0:00:02\n",
      "   --------------------- ------------------ 4.2/7.9 MB 2.7 MB/s eta 0:00:02\n",
      "   --------------------- ------------------ 4.4/7.9 MB 2.7 MB/s eta 0:00:02\n",
      "   ----------------------- ---------------- 4.7/7.9 MB 2.8 MB/s eta 0:00:02\n",
      "   ------------------------- -------------- 5.1/7.9 MB 3.0 MB/s eta 0:00:01\n",
      "   ----------------------------- ---------- 5.8/7.9 MB 3.3 MB/s eta 0:00:01\n",
      "   ----------------------------------- ---- 7.0/7.9 MB 3.9 MB/s eta 0:00:01\n",
      "   ---------------------------------------  7.9/7.9 MB 4.3 MB/s eta 0:00:01\n",
      "   ---------------------------------------- 7.9/7.9 MB 4.3 MB/s eta 0:00:00\n",
      "Downloading safetensors-0.4.0-cp310-none-win_amd64.whl (277 kB)\n",
      "   ---------------------------------------- 0.0/277.4 kB ? eta -:--:--\n",
      "   --------------------------------------- 277.4/277.4 kB 17.8 MB/s eta 0:00:00\n",
      "Downloading tokenizers-0.14.1-cp310-none-win_amd64.whl (2.2 MB)\n",
      "   ---------------------------------------- 0.0/2.2 MB ? eta -:--:--\n",
      "   -------------------- ------------------- 1.1/2.2 MB 34.2 MB/s eta 0:00:01\n",
      "   ---------------------------------------  2.2/2.2 MB 34.6 MB/s eta 0:00:01\n",
      "   ---------------------------------------- 2.2/2.2 MB 23.3 MB/s eta 0:00:00\n",
      "Downloading huggingface_hub-0.17.3-py3-none-any.whl (295 kB)\n",
      "   ---------------------------------------- 0.0/295.0 kB ? eta -:--:--\n",
      "   --------------------------------------- 295.0/295.0 kB 17.8 MB/s eta 0:00:00\n",
      "Installing collected packages: safetensors, huggingface-hub, tokenizers, transformers\n",
      "Successfully installed huggingface-hub-0.17.3 safetensors-0.4.0 tokenizers-0.14.1 transformers-4.35.0\n"
     ]
    }
   ],
   "source": [
    "!pip install transformers"
   ]
  },
  {
   "cell_type": "code",
   "execution_count": 2,
   "metadata": {},
   "outputs": [
    {
     "name": "stderr",
     "output_type": "stream",
     "text": [
      "c:\\ProgramData\\anaconda3\\envs\\SuperEnv\\lib\\site-packages\\tqdm\\auto.py:21: TqdmWarning: IProgress not found. Please update jupyter and ipywidgets. See https://ipywidgets.readthedocs.io/en/stable/user_install.html\n",
      "  from .autonotebook import tqdm as notebook_tqdm\n"
     ]
    }
   ],
   "source": [
    "import transformers"
   ]
  },
  {
   "cell_type": "code",
   "execution_count": 3,
   "metadata": {},
   "outputs": [
    {
     "name": "stdout",
     "output_type": "stream",
     "text": [
      "Requirement already satisfied: transformers[sentencepiece] in c:\\programdata\\anaconda3\\envs\\superenv\\lib\\site-packages (4.35.0)\n",
      "Requirement already satisfied: filelock in c:\\programdata\\anaconda3\\envs\\superenv\\lib\\site-packages (from transformers[sentencepiece]) (3.9.0)\n",
      "Requirement already satisfied: huggingface-hub<1.0,>=0.16.4 in c:\\programdata\\anaconda3\\envs\\superenv\\lib\\site-packages (from transformers[sentencepiece]) (0.17.3)\n",
      "Requirement already satisfied: numpy>=1.17 in c:\\programdata\\anaconda3\\envs\\superenv\\lib\\site-packages (from transformers[sentencepiece]) (1.24.3)\n",
      "Requirement already satisfied: packaging>=20.0 in c:\\programdata\\anaconda3\\envs\\superenv\\lib\\site-packages (from transformers[sentencepiece]) (23.1)\n",
      "Requirement already satisfied: pyyaml>=5.1 in c:\\programdata\\anaconda3\\envs\\superenv\\lib\\site-packages (from transformers[sentencepiece]) (6.0.1)\n",
      "Requirement already satisfied: regex!=2019.12.17 in c:\\programdata\\anaconda3\\envs\\superenv\\lib\\site-packages (from transformers[sentencepiece]) (2023.8.8)\n",
      "Requirement already satisfied: requests in c:\\programdata\\anaconda3\\envs\\superenv\\lib\\site-packages (from transformers[sentencepiece]) (2.31.0)\n",
      "Requirement already satisfied: tokenizers<0.15,>=0.14 in c:\\programdata\\anaconda3\\envs\\superenv\\lib\\site-packages (from transformers[sentencepiece]) (0.14.1)\n",
      "Requirement already satisfied: safetensors>=0.3.1 in c:\\programdata\\anaconda3\\envs\\superenv\\lib\\site-packages (from transformers[sentencepiece]) (0.4.0)\n",
      "Requirement already satisfied: tqdm>=4.27 in c:\\programdata\\anaconda3\\envs\\superenv\\lib\\site-packages (from transformers[sentencepiece]) (4.66.1)\n",
      "Collecting sentencepiece!=0.1.92,>=0.1.91 (from transformers[sentencepiece])\n",
      "  Downloading sentencepiece-0.1.99-cp310-cp310-win_amd64.whl (977 kB)\n",
      "     ---------------------------------------- 0.0/977.5 kB ? eta -:--:--\n",
      "     ---------------------------------------- 10.2/977.5 kB ? eta -:--:--\n",
      "     - ----------------------------------- 30.7/977.5 kB 325.1 kB/s eta 0:00:03\n",
      "     - ----------------------------------- 30.7/977.5 kB 325.1 kB/s eta 0:00:03\n",
      "     - ----------------------------------- 30.7/977.5 kB 325.1 kB/s eta 0:00:03\n",
      "     - ----------------------------------- 41.0/977.5 kB 115.5 kB/s eta 0:00:09\n",
      "     - ----------------------------------- 51.2/977.5 kB 130.9 kB/s eta 0:00:08\n",
      "     -- ---------------------------------- 71.7/977.5 kB 178.6 kB/s eta 0:00:06\n",
      "     --- --------------------------------- 92.2/977.5 kB 218.5 kB/s eta 0:00:05\n",
      "     --- --------------------------------- 92.2/977.5 kB 218.5 kB/s eta 0:00:05\n",
      "     --- --------------------------------- 92.2/977.5 kB 218.5 kB/s eta 0:00:05\n",
      "     ---- ------------------------------- 112.6/977.5 kB 198.4 kB/s eta 0:00:05\n",
      "     ---- ------------------------------- 122.9/977.5 kB 205.9 kB/s eta 0:00:05\n",
      "     ---- ------------------------------- 122.9/977.5 kB 205.9 kB/s eta 0:00:05\n",
      "     ----- ------------------------------ 153.6/977.5 kB 213.3 kB/s eta 0:00:04\n",
      "     ------- ---------------------------- 204.8/977.5 kB 270.6 kB/s eta 0:00:03\n",
      "     --------- -------------------------- 256.0/977.5 kB 314.3 kB/s eta 0:00:03\n",
      "     ---------- ------------------------- 276.5/977.5 kB 321.2 kB/s eta 0:00:03\n",
      "     ----------- ------------------------ 317.4/977.5 kB 357.2 kB/s eta 0:00:02\n",
      "     ------------ ----------------------- 337.9/977.5 kB 349.3 kB/s eta 0:00:02\n",
      "     --------------- -------------------- 409.6/977.5 kB 405.4 kB/s eta 0:00:02\n",
      "     ------------------ ----------------- 512.0/977.5 kB 486.2 kB/s eta 0:00:01\n",
      "     -------------------- --------------- 563.2/977.5 kB 512.5 kB/s eta 0:00:01\n",
      "     ------------------------ ----------- 655.4/977.5 kB 565.4 kB/s eta 0:00:01\n",
      "     ------------------------- ---------- 696.3/977.5 kB 577.5 kB/s eta 0:00:01\n",
      "     ---------------------------- ------- 778.2/977.5 kB 621.9 kB/s eta 0:00:01\n",
      "     --------------------------------- -- 921.6/977.5 kB 710.9 kB/s eta 0:00:01\n",
      "     ------------------------------------ 977.5/977.5 kB 736.7 kB/s eta 0:00:00\n",
      "Requirement already satisfied: protobuf in c:\\programdata\\anaconda3\\envs\\superenv\\lib\\site-packages (from transformers[sentencepiece]) (3.20.3)\n",
      "Requirement already satisfied: fsspec in c:\\programdata\\anaconda3\\envs\\superenv\\lib\\site-packages (from huggingface-hub<1.0,>=0.16.4->transformers[sentencepiece]) (2023.9.2)\n",
      "Requirement already satisfied: typing-extensions>=3.7.4.3 in c:\\programdata\\anaconda3\\envs\\superenv\\lib\\site-packages (from huggingface-hub<1.0,>=0.16.4->transformers[sentencepiece]) (4.7.1)\n",
      "Requirement already satisfied: colorama in c:\\programdata\\anaconda3\\envs\\superenv\\lib\\site-packages (from tqdm>=4.27->transformers[sentencepiece]) (0.4.6)\n",
      "Requirement already satisfied: charset-normalizer<4,>=2 in c:\\programdata\\anaconda3\\envs\\superenv\\lib\\site-packages (from requests->transformers[sentencepiece]) (2.0.4)\n",
      "Requirement already satisfied: idna<4,>=2.5 in c:\\programdata\\anaconda3\\envs\\superenv\\lib\\site-packages (from requests->transformers[sentencepiece]) (3.4)\n",
      "Requirement already satisfied: urllib3<3,>=1.21.1 in c:\\programdata\\anaconda3\\envs\\superenv\\lib\\site-packages (from requests->transformers[sentencepiece]) (1.26.16)\n",
      "Requirement already satisfied: certifi>=2017.4.17 in c:\\programdata\\anaconda3\\envs\\superenv\\lib\\site-packages (from requests->transformers[sentencepiece]) (2023.7.22)\n",
      "Installing collected packages: sentencepiece\n",
      "Successfully installed sentencepiece-0.1.99\n"
     ]
    }
   ],
   "source": [
    "!pip install transformers[sentencepiece]"
   ]
  },
  {
   "cell_type": "code",
   "execution_count": 6,
   "metadata": {},
   "outputs": [
    {
     "name": "stdout",
     "output_type": "stream",
     "text": [
      " Volume in drive C is Windows\n",
      " Volume Serial Number is 5696-5673\n",
      "\n",
      " Directory of c:\\GitHub\\Python\\NLP_Course\\Missclinious\n",
      "\n"
     ]
    },
    {
     "name": "stderr",
     "output_type": "stream",
     "text": [
      "File Not Found\n"
     ]
    }
   ],
   "source": [
    "ls -a"
   ]
  },
  {
   "cell_type": "code",
   "execution_count": null,
   "metadata": {},
   "outputs": [],
   "source": []
  }
 ],
 "metadata": {
  "kernelspec": {
   "display_name": "SuperEnv",
   "language": "python",
   "name": "superenv"
  },
  "language_info": {
   "codemirror_mode": {
    "name": "ipython",
    "version": 3
   },
   "file_extension": ".py",
   "mimetype": "text/x-python",
   "name": "python",
   "nbconvert_exporter": "python",
   "pygments_lexer": "ipython3",
   "version": "3.10.13"
  }
 },
 "nbformat": 4,
 "nbformat_minor": 2
}

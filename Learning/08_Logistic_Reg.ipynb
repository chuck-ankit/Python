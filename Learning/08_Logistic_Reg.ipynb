{
 "cells": [
  {
   "cell_type": "markdown",
   "metadata": {},
   "source": [
    "# Logistic Regression"
   ]
  },
  {
   "cell_type": "markdown",
   "metadata": {},
   "source": [
    "Logistic regression is another technique borrowed by machine learning from the field of statistics. It is the `go-to method` for `binary classification` problems (problems with two class values).\n",
    "\n",
    "### Why the name?\n",
    "- Logistic regression is named for the function used at the core of the method, the logistic function. Also\n",
    "  called `Sigmoid` function\n",
    "\n",
    "### What is Sigmoid function?\n",
    "- It’s an S-shaped curve that can take any real-valued number and map it into a value between 0 and 1, but `never` exactly at those limits.\n",
    "\n",
    "$$f(x) = \\frac{1}{1 + e^{-x}} \\quad \\text{(sigmoid function)}$$\n",
    "\n",
    "    e: Euler's number, In basic words: base of the natural logarithms\n",
    "\n",
    "### Representation used for logistic regression\n",
    "$$y = \\frac{1}{1 + e^{-(B0 + B1x)}}$$\n",
    "\n",
    "    y: predicted output.\n",
    "    B0: Bias/Intercept\n",
    "    B1: coefficient for the single input value (x)\n",
    "    \n",
    "    Note:  A key difference from linear regression is that the output value being modeled is a binary values (0 or 1) rather than a numeric value.\n"
   ]
  },
  {
   "cell_type": "markdown",
   "metadata": {},
   "source": [
    "# Sigmoid function:\n",
    "import numpy as np\n",
    "import matplotlib.pyplot as plt\n",
    "\n",
    "\n",
    "def sigmoid(x):\n",
    "  return 1 / (1 + np.exp(-x))\n",
    "\n",
    "\n",
    "# Generate a sigmoid signal with a slope of 1\n",
    "x = np.linspace(-10, 10, 1000)\n",
    "y = sigmoid(-2*x)\n",
    "\n",
    "# Generate a sigmoid signal with a slope of 2\n",
    "x2 = np.linspace(-10, 10, 1000)\n",
    "y2 = sigmoid(3 * x2)\n",
    "\n",
    "# Generate a sigmoid signal with a slope of 0.5\n",
    "x3 = np.linspace(-10, 10, 1000)\n",
    "y3 = sigmoid(0.5 * x3)\n",
    "\n",
    "plt.plot(x, y, label='Sigmoid signal with slope 1')\n",
    "plt.plot(x2, y2, label='Sigmoid signal with slope 3')\n",
    "plt.plot(x3, y3, label='Sigmoid signal with slope 0.5')\n",
    "plt.legend()\n",
    "plt.xlabel('Input')\n",
    "plt.ylabel('Output')\n",
    "plt.title('Different sigmoid signals')\n",
    "plt.show()\n"
   ]
  },
  {
   "cell_type": "code",
   "execution_count": null,
   "metadata": {
    "vscode": {
     "languageId": "plaintext"
    }
   },
   "outputs": [],
   "source": []
  },
  {
   "cell_type": "code",
   "execution_count": null,
   "metadata": {
    "vscode": {
     "languageId": "plaintext"
    }
   },
   "outputs": [],
   "source": []
  },
  {
   "cell_type": "code",
   "execution_count": null,
   "metadata": {
    "vscode": {
     "languageId": "plaintext"
    }
   },
   "outputs": [],
   "source": []
  },
  {
   "cell_type": "code",
   "execution_count": null,
   "metadata": {
    "vscode": {
     "languageId": "plaintext"
    }
   },
   "outputs": [],
   "source": []
  }
 ],
 "metadata": {
  "language_info": {
   "name": "python"
  },
  "orig_nbformat": 4
 },
 "nbformat": 4,
 "nbformat_minor": 2
}

{
 "cells": [
  {
   "cell_type": "code",
   "execution_count": 2,
   "metadata": {},
   "outputs": [
    {
     "ename": "AttributeError",
     "evalue": "'YouTube' object has no attribute 'stream'",
     "output_type": "error",
     "traceback": [
      "\u001b[1;31m---------------------------------------------------------------------------\u001b[0m",
      "\u001b[1;31mAttributeError\u001b[0m                            Traceback (most recent call last)",
      "\u001b[1;32mc:\\GitHub\\Python\\Youtube_downloder\\app.ipynb Cell 1\u001b[0m line \u001b[0;36m8\n\u001b[0;32m      <a href='vscode-notebook-cell:/c%3A/GitHub/Python/Youtube_downloder/app.ipynb#W0sZmlsZQ%3D%3D?line=5'>6</a>\u001b[0m \u001b[39m#Creating an instane of youtube video\u001b[39;00m\n\u001b[0;32m      <a href='vscode-notebook-cell:/c%3A/GitHub/Python/Youtube_downloder/app.ipynb#W0sZmlsZQ%3D%3D?line=6'>7</a>\u001b[0m video_instance \u001b[39m=\u001b[39m pytube\u001b[39m.\u001b[39mYouTube(viedo_url)\n\u001b[1;32m----> <a href='vscode-notebook-cell:/c%3A/GitHub/Python/Youtube_downloder/app.ipynb#W0sZmlsZQ%3D%3D?line=7'>8</a>\u001b[0m stream \u001b[39m=\u001b[39m video_instance\u001b[39m.\u001b[39;49mstream\u001b[39m.\u001b[39mget_highest_resolution()\n\u001b[0;32m     <a href='vscode-notebook-cell:/c%3A/GitHub/Python/Youtube_downloder/app.ipynb#W0sZmlsZQ%3D%3D?line=9'>10</a>\u001b[0m \u001b[39m#Download\u001b[39;00m\n\u001b[0;32m     <a href='vscode-notebook-cell:/c%3A/GitHub/Python/Youtube_downloder/app.ipynb#W0sZmlsZQ%3D%3D?line=10'>11</a>\u001b[0m stream\u001b[39m.\u001b[39mdoownload()\n",
      "\u001b[1;31mAttributeError\u001b[0m: 'YouTube' object has no attribute 'stream'"
     ]
    }
   ],
   "source": [
    "import pytube\n",
    "\n",
    "#Asking User for input\n",
    "viedo_url = input('enter URL: ')\n",
    "\n",
    "#Creating an instane of youtube video\n",
    "video_instance = pytube.YouTube(viedo_url)\n",
    "stream = video_instance.stream.get_highest_resolution()\n",
    "\n",
    "#Download\n",
    "stream.doownload()\n"
   ]
  },
  {
   "cell_type": "code",
   "execution_count": null,
   "metadata": {},
   "outputs": [],
   "source": [
    "import pytube\n",
    "# Ask the user to enter url of YouTube video\n",
    "video_url = input('Enter url: ')\n",
    "# Create an instance of YouTube video\n",
    "video_instance = pytube. YouTube (video_url)\n",
    "stream = video_instance.streams.get_highest_resolution()\n",
    "# download y\n",
    "stream.download ()"
   ]
  }
 ],
 "metadata": {
  "kernelspec": {
   "display_name": "SuperEnv",
   "language": "python",
   "name": "python3"
  },
  "language_info": {
   "codemirror_mode": {
    "name": "ipython",
    "version": 3
   },
   "file_extension": ".py",
   "mimetype": "text/x-python",
   "name": "python",
   "nbconvert_exporter": "python",
   "pygments_lexer": "ipython3",
   "version": "3.10.13"
  },
  "orig_nbformat": 4
 },
 "nbformat": 4,
 "nbformat_minor": 2
}

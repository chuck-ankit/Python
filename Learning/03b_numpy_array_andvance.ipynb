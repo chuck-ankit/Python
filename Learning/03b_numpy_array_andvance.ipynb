{
 "cells": [
  {
   "cell_type": "markdown",
   "metadata": {},
   "source": [
    "Pandas is most commonly used for data wrangling and data manipulation purposes, and NumPy objects are primarily used to create arrays or matrices that can be applied to DL or ML models. Whereas Pandas is used for creating heterogenous, two-dimensional data objects, NumPy makes N-dimensional homogeneous objects."
   ]
  },
  {
   "cell_type": "markdown",
   "metadata": {},
   "source": [
    "# Advantges of Numpy Over List"
   ]
  },
  {
   "cell_type": "code",
   "execution_count": 3,
   "metadata": {},
   "outputs": [
    {
     "name": "stdout",
     "output_type": "stream",
     "text": [
      "Size of a List:  28000\n",
      "Size of an array:  400\n"
     ]
    }
   ],
   "source": [
    "#Numpy vs List Storage\n",
    "\n",
    "import numpy as np\n",
    "import sys\n",
    "\n",
    "#define a list\n",
    "l = range(1000)\n",
    "print(\"Size of a List: \",sys.getsizeof(1)*len(l))\n",
    "\n",
    "#Define a numpy array\n",
    "a = np.arange(100)\n",
    "print(\"Size of an array: \",a.size*a.itemsize)"
   ]
  },
  {
   "cell_type": "code",
   "execution_count": 1,
   "metadata": {},
   "outputs": [
    {
     "ename": "NameError",
     "evalue": "name 'np' is not defined",
     "output_type": "error",
     "traceback": [
      "\u001b[1;31m---------------------------------------------------------------------------\u001b[0m",
      "\u001b[1;31mNameError\u001b[0m                                 Traceback (most recent call last)",
      "\u001b[1;32mc:\\GitHub\\Python\\Learning\\03b_numpy_array_andvance.ipynb Cell 4\u001b[0m line \u001b[0;36m1\n\u001b[0;32m     <a href='vscode-notebook-cell:/c%3A/GitHub/Python/Learning/03b_numpy_array_andvance.ipynb#W3sZmlsZQ%3D%3D?line=15'>16</a>\u001b[0m     \u001b[39mreturn\u001b[39;00m time\u001b[39m.\u001b[39mtime()\u001b[39m-\u001b[39mt1\n\u001b[0;32m     <a href='vscode-notebook-cell:/c%3A/GitHub/Python/Learning/03b_numpy_array_andvance.ipynb#W3sZmlsZQ%3D%3D?line=17'>18</a>\u001b[0m list_time \u001b[39m=\u001b[39m using_list()\n\u001b[1;32m---> <a href='vscode-notebook-cell:/c%3A/GitHub/Python/Learning/03b_numpy_array_andvance.ipynb#W3sZmlsZQ%3D%3D?line=18'>19</a>\u001b[0m numpy_time \u001b[39m=\u001b[39m using_Numpy()\n\u001b[0;32m     <a href='vscode-notebook-cell:/c%3A/GitHub/Python/Learning/03b_numpy_array_andvance.ipynb#W3sZmlsZQ%3D%3D?line=20'>21</a>\u001b[0m \u001b[39mprint\u001b[39m(list_time,numpy_time)\n\u001b[0;32m     <a href='vscode-notebook-cell:/c%3A/GitHub/Python/Learning/03b_numpy_array_andvance.ipynb#W3sZmlsZQ%3D%3D?line=21'>22</a>\u001b[0m \u001b[39mprint\u001b[39m(\u001b[39m\"\u001b[39m\u001b[39mIn this example Numpy is \u001b[39m\u001b[39m\"\u001b[39m\u001b[39m+\u001b[39m \u001b[39mstr\u001b[39m(list_time\u001b[39m/\u001b[39mnumpy_time) \u001b[39m+\u001b[39m\u001b[39m\"\u001b[39m\u001b[39m time faster than a list.\u001b[39m\u001b[39m\"\u001b[39m)\n",
      "\u001b[1;32mc:\\GitHub\\Python\\Learning\\03b_numpy_array_andvance.ipynb Cell 4\u001b[0m line \u001b[0;36m1\n\u001b[0;32m     <a href='vscode-notebook-cell:/c%3A/GitHub/Python/Learning/03b_numpy_array_andvance.ipynb#W3sZmlsZQ%3D%3D?line=10'>11</a>\u001b[0m \u001b[39mdef\u001b[39;00m \u001b[39musing_Numpy\u001b[39m():\n\u001b[0;32m     <a href='vscode-notebook-cell:/c%3A/GitHub/Python/Learning/03b_numpy_array_andvance.ipynb#W3sZmlsZQ%3D%3D?line=11'>12</a>\u001b[0m     t1 \u001b[39m=\u001b[39m time\u001b[39m.\u001b[39mtime()\u001b[39m#Starting / Initial Time\u001b[39;00m\n\u001b[1;32m---> <a href='vscode-notebook-cell:/c%3A/GitHub/Python/Learning/03b_numpy_array_andvance.ipynb#W3sZmlsZQ%3D%3D?line=12'>13</a>\u001b[0m     a \u001b[39m=\u001b[39m np\u001b[39m.\u001b[39marange(\u001b[39m10000\u001b[39m)\n\u001b[0;32m     <a href='vscode-notebook-cell:/c%3A/GitHub/Python/Learning/03b_numpy_array_andvance.ipynb#W3sZmlsZQ%3D%3D?line=13'>14</a>\u001b[0m     b \u001b[39m=\u001b[39m np\u001b[39m.\u001b[39marange(\u001b[39m10000\u001b[39m)\n\u001b[0;32m     <a href='vscode-notebook-cell:/c%3A/GitHub/Python/Learning/03b_numpy_array_andvance.ipynb#W3sZmlsZQ%3D%3D?line=14'>15</a>\u001b[0m     z \u001b[39m=\u001b[39m a\u001b[39m+\u001b[39mb\u001b[39m#more convient than a list\u001b[39;00m\n",
      "\u001b[1;31mNameError\u001b[0m: name 'np' is not defined"
     ]
    }
   ],
   "source": [
    "#Numpy vs list : Speed\n",
    "import time\n",
    "def using_list():\n",
    "    t1 = time.time()#Starting / Initial Time\n",
    "    X = range(10000)\n",
    "    Y = range(10000)\n",
    "    z = [X[i]+Y[i] for i in range(len(X))] \n",
    "    return time.time() - t1\n",
    "\n",
    "\n",
    "def using_Numpy():\n",
    "    t1 = time.time()#Starting / Initial Time\n",
    "    a = np.arange(10000)\n",
    "    b = np.arange(10000)\n",
    "    z = a+b#more convient than a list\n",
    "    return time.time()-t1\n",
    "\n",
    "list_time = using_list()\n",
    "numpy_time = using_Numpy()\n",
    "\n",
    "print(list_time,numpy_time)\n",
    "#print(\"In this example Numpy is \"+ str(list_time/numpy_time) +\" time faster than a list.\")\n"
   ]
  },
  {
   "cell_type": "code",
   "execution_count": null,
   "metadata": {},
   "outputs": [],
   "source": []
  }
 ],
 "metadata": {
  "kernelspec": {
   "display_name": "SuperEnv",
   "language": "python",
   "name": "python3"
  },
  "language_info": {
   "codemirror_mode": {
    "name": "ipython",
    "version": 3
   },
   "file_extension": ".py",
   "mimetype": "text/x-python",
   "name": "python",
   "nbconvert_exporter": "python",
   "pygments_lexer": "ipython3",
   "version": "3.10.13"
  },
  "orig_nbformat": 4
 },
 "nbformat": 4,
 "nbformat_minor": 2
}

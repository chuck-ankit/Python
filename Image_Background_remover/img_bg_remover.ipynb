{
 "cells": [
  {
   "cell_type": "code",
   "execution_count": null,
   "metadata": {},
   "outputs": [],
   "source": [
    "from rembg import remove\n",
    "import easygui \n",
    "from PIL import Image\n",
    "\n",
    "inputPath = easygui.fileopenbox(title='C:/GitHub/Python/Image_Background_remover/DSC_0099_1.JPG')\n",
    "optputPath = easygui.filesavebox(title='C:/GitHub/Python/Image_Background_remover')\n",
    "\n",
    "input = Image.open(inputPath)\n",
    "output = remove(input)\n",
    "output.save(optputPath)"
   ]
  }
 ],
 "metadata": {
  "kernelspec": {
   "display_name": "SuperEnv",
   "language": "python",
   "name": "python3"
  },
  "language_info": {
   "codemirror_mode": {
    "name": "ipython",
    "version": 3
   },
   "file_extension": ".py",
   "mimetype": "text/x-python",
   "name": "python",
   "nbconvert_exporter": "python",
   "pygments_lexer": "ipython3",
   "version": "3.10.13"
  },
  "orig_nbformat": 4
 },
 "nbformat": 4,
 "nbformat_minor": 2
}

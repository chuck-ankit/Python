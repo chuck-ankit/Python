{
 "cells": [
  {
   "cell_type": "code",
   "execution_count": 1,
   "metadata": {},
   "outputs": [
    {
     "name": "stdout",
     "output_type": "stream",
     "text": [
      "/Users/priyanshutalyan/Documents/GitHub/Python\n"
     ]
    }
   ],
   "source": [
    "import os\n",
    "print(os.getcwd())\n"
   ]
  },
  {
   "cell_type": "code",
   "execution_count": 3,
   "metadata": {},
   "outputs": [],
   "source": [
    "from PIL import Image\n",
    "im=Image.open(\"face.jpg\")\n",
    "im.show()"
   ]
  },
  {
   "cell_type": "code",
   "execution_count": 4,
   "metadata": {},
   "outputs": [],
   "source": [
    "img = Image.open('face.jpg')\n",
    "imgGray = img.convert('L')\n",
    "imgGray.show()\n"
   ]
  },
  {
   "cell_type": "code",
   "execution_count": 9,
   "metadata": {},
   "outputs": [],
   "source": [
    "#importing Imageclass from PIL module\n",
    "from PIL import Image\n",
    "\n",
    "#Opens a image inRGB mode\n",
    "im = Image.open(\"face.jpg\")\n",
    "\n",
    "#size of the image in pixels (size of original image)\n",
    "width, hight = im.size\n",
    "\n",
    "#setting the points for cropped image\n",
    "left = 0\n",
    "top = 0\n",
    "right = width/2\n",
    "im.show()\n"
   ]
  },
  {
   "cell_type": "code",
   "execution_count": 22,
   "metadata": {},
   "outputs": [
    {
     "ename": "ModuleNotFoundError",
     "evalue": "No module named 'imageio.v3'",
     "output_type": "error",
     "traceback": [
      "\u001b[0;31m---------------------------------------------------------------------------\u001b[0m",
      "\u001b[0;31mModuleNotFoundError\u001b[0m                       Traceback (most recent call last)",
      "Cell \u001b[0;32mIn[22], line 1\u001b[0m\n\u001b[0;32m----> 1\u001b[0m \u001b[39mimport\u001b[39;00m \u001b[39mimageio\u001b[39;00m\u001b[39m.\u001b[39;00m\u001b[39mv3\u001b[39;00m \u001b[39mas\u001b[39;00m \u001b[39miio\u001b[39;00m\n\u001b[1;32m      2\u001b[0m \u001b[39mimport\u001b[39;00m \u001b[39mnumpy\u001b[39;00m \u001b[39mas\u001b[39;00m \u001b[39mnp\u001b[39;00m\n\u001b[1;32m      3\u001b[0m \u001b[39mimport\u001b[39;00m \u001b[39mskimage\u001b[39;00m\u001b[39m.\u001b[39;00m\u001b[39mcolor\u001b[39;00m\n",
      "\u001b[0;31mModuleNotFoundError\u001b[0m: No module named 'imageio.v3'"
     ]
    }
   ],
   "source": [
    "import imageio.v3 as iio\n",
    "import numpy as np\n",
    "import skimage.color\n",
    "import skimage.util\n",
    "import matplotlib.pyplot as plt\n",
    "%matplotlib widget\n",
    "\n",
    "# read the image of a plant seedling as grayscale from the outset\n",
    "image = iio.imread(uri=\"face.jpg\", mode=\"L\")\n",
    "\n",
    "# convert the image to float dtype with a value range from 0 to 1\n",
    "image = skimage.util.img_as_float(image)\n",
    "\n",
    "# display the image\n",
    "fig, ax = plt.subplots()\n",
    "plt.imshow(image, cmap=\"gray\")"
   ]
  },
  {
   "cell_type": "code",
   "execution_count": 27,
   "metadata": {},
   "outputs": [
    {
     "name": "stdout",
     "output_type": "stream",
     "text": [
      "Hello\n",
      "python"
     ]
    }
   ],
   "source": [
    "print(\"python\",end=\"\")\n",
    "print(\"Hello\")\n",
    "\n"
   ]
  },
  {
   "cell_type": "code",
   "execution_count": 25,
   "metadata": {},
   "outputs": [
    {
     "name": "stdout",
     "output_type": "stream",
     "text": [
      "hello\n",
      "HelloINDIApython\n"
     ]
    }
   ],
   "source": [
    "print(\"hello\",end = \"\\n\")\n",
    "print(\"Hello\",end=\"INDIA\")\n",
    "print(\"python\")\n"
   ]
  },
  {
   "cell_type": "code",
   "execution_count": null,
   "metadata": {},
   "outputs": [],
   "source": []
  }
 ],
 "metadata": {
  "kernelspec": {
   "display_name": "env_testpython",
   "language": "python",
   "name": "python3"
  },
  "language_info": {
   "codemirror_mode": {
    "name": "ipython",
    "version": 3
   },
   "file_extension": ".py",
   "mimetype": "text/x-python",
   "name": "python",
   "nbconvert_exporter": "python",
   "pygments_lexer": "ipython3",
   "version": "3.11.0"
  },
  "orig_nbformat": 4,
  "vscode": {
   "interpreter": {
    "hash": "393ae0a21f5c7ca1a8172cfb0e66661474fc474d321cf89615bfda1c2b4db9ce"
   }
  }
 },
 "nbformat": 4,
 "nbformat_minor": 2
}

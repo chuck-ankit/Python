{
 "cells": [
  {
   "cell_type": "code",
   "execution_count": 5,
   "metadata": {},
   "outputs": [
    {
     "data": {
      "text/plain": [
       "'C://GitHub\\\\India Shuts Door on Canadians  Vantage with Palki Sharma  Subscribe to Firstpost.mp4'"
      ]
     },
     "execution_count": 5,
     "metadata": {},
     "output_type": "execute_result"
    }
   ],
   "source": [
    "from pytube import YouTube\n",
    "\n",
    "link_input = input('Enter the URL: ')\n",
    "\n",
    "link = YouTube(link_input)\n",
    "\n",
    "video = link.streams.get_highest_resolution()\n",
    "\n",
    "video.download(\"C://GitHub\")"
   ]
  }
 ],
 "metadata": {
  "kernelspec": {
   "display_name": "SuperEnv",
   "language": "python",
   "name": "python3"
  },
  "language_info": {
   "codemirror_mode": {
    "name": "ipython",
    "version": 3
   },
   "file_extension": ".py",
   "mimetype": "text/x-python",
   "name": "python",
   "nbconvert_exporter": "python",
   "pygments_lexer": "ipython3",
   "version": "3.10.13"
  },
  "orig_nbformat": 4
 },
 "nbformat": 4,
 "nbformat_minor": 2
}

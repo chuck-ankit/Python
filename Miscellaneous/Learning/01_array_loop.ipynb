{
 "cells": [
  {
   "cell_type": "markdown",
   "id": "44aeba7a",
   "metadata": {},
   "source": [
    "# List comprehension\n",
    "\n",
    "List comprehensions are a concise way to create a new list based on an existing list."
   ]
  },
  {
   "cell_type": "code",
   "execution_count": 1,
   "id": "33b771b2",
   "metadata": {},
   "outputs": [
    {
     "name": "stdout",
     "output_type": "stream",
     "text": [
      "[1, 2, 3, 4, 5]\n"
     ]
    }
   ],
   "source": [
    "r = []\n",
    "for i in range(5):\n",
    "    r.append(i+1)\n",
    "#     print(i)\n",
    "#     print(5)\n",
    "print(r)"
   ]
  },
  {
   "cell_type": "code",
   "execution_count": 2,
   "id": "d9de6563",
   "metadata": {},
   "outputs": [
    {
     "data": {
      "text/plain": [
       "[0, 1, 2, 3, 4]"
      ]
     },
     "execution_count": 2,
     "metadata": {},
     "output_type": "execute_result"
    }
   ],
   "source": [
    "[ i for i in range(5)]"
   ]
  },
  {
   "cell_type": "code",
   "execution_count": 3,
   "id": "26316ffc",
   "metadata": {},
   "outputs": [
    {
     "data": {
      "text/plain": [
       "[4, 5, 6, 7, 8, 9]"
      ]
     },
     "execution_count": 3,
     "metadata": {},
     "output_type": "execute_result"
    }
   ],
   "source": [
    "[ i for i in range(10) if i>3]"
   ]
  },
  {
   "cell_type": "code",
   "execution_count": 6,
   "id": "b71c15fb",
   "metadata": {},
   "outputs": [
    {
     "data": {
      "text/plain": [
       "[0, 2, 12, 3, 4]"
      ]
     },
     "execution_count": 6,
     "metadata": {},
     "output_type": "execute_result"
    }
   ],
   "source": [
    "[i if i>=3 else (i*i*(i+1)) for i in range(5)]"
   ]
  },
  {
   "cell_type": "markdown",
   "id": "9cb88f2e",
   "metadata": {},
   "source": [
    "## Numpy Array"
   ]
  },
  {
   "cell_type": "code",
   "execution_count": 12,
   "id": "4c0ca985",
   "metadata": {},
   "outputs": [
    {
     "name": "stdout",
     "output_type": "stream",
     "text": [
      "[1 2 3 4 5 6 7 8 9]\n"
     ]
    }
   ],
   "source": [
    "import numpy as np\n",
    "a = np.arange(1,10)\n",
    "print(a)"
   ]
  },
  {
   "cell_type": "code",
   "execution_count": 19,
   "id": "22606328",
   "metadata": {},
   "outputs": [
    {
     "data": {
      "text/plain": [
       "(3, 3)"
      ]
     },
     "execution_count": 19,
     "metadata": {},
     "output_type": "execute_result"
    }
   ],
   "source": [
    "a.reshape(3,3).shape"
   ]
  },
  {
   "cell_type": "code",
   "execution_count": 18,
   "id": "8b53f2c0",
   "metadata": {},
   "outputs": [
    {
     "name": "stdout",
     "output_type": "stream",
     "text": [
      "[[1 2 3]\n",
      " [4 5 6]\n",
      " [7 8 9]]\n"
     ]
    }
   ],
   "source": [
    "b = a.reshape(3,3)\n",
    "print(b)\n"
   ]
  },
  {
   "cell_type": "code",
   "execution_count": 23,
   "id": "c20f2c1e",
   "metadata": {},
   "outputs": [
    {
     "name": "stdout",
     "output_type": "stream",
     "text": [
      "[[0 1 2 3 4]\n",
      " [5 6 7 8 9]]\n",
      "[[0 1]\n",
      " [2 3]\n",
      " [4 5]\n",
      " [6 7]\n",
      " [8 9]]\n"
     ]
    }
   ],
   "source": [
    "c = np.arange(0,10)\n",
    "d = c.reshape(2,5)\n",
    "e = c.reshape(5,2)\n",
    "print(d)\n",
    "print(e)"
   ]
  },
  {
   "cell_type": "code",
   "execution_count": 25,
   "id": "c2740f84",
   "metadata": {},
   "outputs": [
    {
     "name": "stdout",
     "output_type": "stream",
     "text": [
      "[1 3 5 7 9]\n"
     ]
    }
   ],
   "source": [
    "f = np.arange(1,10,2)\n",
    "print(f)"
   ]
  },
  {
   "cell_type": "code",
   "execution_count": 26,
   "id": "e8ab833e",
   "metadata": {},
   "outputs": [
    {
     "name": "stdout",
     "output_type": "stream",
     "text": [
      "<class 'numpy.ndarray'>\n"
     ]
    }
   ],
   "source": [
    "print(type(f))"
   ]
  },
  {
   "cell_type": "markdown",
   "id": "b21b7218",
   "metadata": {},
   "source": [
    "# N-dim - vis\n",
    "# Reshape\n",
    "# axis\n"
   ]
  },
  {
   "cell_type": "code",
   "execution_count": 29,
   "id": "9475137c",
   "metadata": {},
   "outputs": [
    {
     "name": "stdout",
     "output_type": "stream",
     "text": [
      "10 25\n",
      "Value of a:  10 Value of b:  25\n",
      "Value of a: 10, Value of b: 25.\n"
     ]
    }
   ],
   "source": [
    "# Output Formatting in Python\n",
    "a = 10\n",
    "b = 25\n",
    "print(a,b)\n",
    "print(\"Value of a: \",a,\"Value of b: \",b)\n",
    "\n",
    "print(\"Value of a: {first}, Value of b: {second}.\".format(second=b,first=a))"
   ]
  },
  {
   "cell_type": "code",
   "execution_count": 31,
   "id": "f40506ad",
   "metadata": {},
   "outputs": [
    {
     "name": "stdout",
     "output_type": "stream",
     "text": [
      "Value of a:10, Value of b:25\n"
     ]
    }
   ],
   "source": [
    "# Formatted String ->\n",
    "\n",
    "print(f\"Value of a:{a}, Value of b:{b}\")"
   ]
  },
  {
   "cell_type": "code",
   "execution_count": null,
   "id": "1bf59493",
   "metadata": {},
   "outputs": [],
   "source": []
  }
 ],
 "metadata": {
  "kernelspec": {
   "display_name": "SuperEnv",
   "language": "python",
   "name": "superenv"
  },
  "language_info": {
   "codemirror_mode": {
    "name": "ipython",
    "version": 3
   },
   "file_extension": ".py",
   "mimetype": "text/x-python",
   "name": "python",
   "nbconvert_exporter": "python",
   "pygments_lexer": "ipython3",
   "version": "3.10.13"
  }
 },
 "nbformat": 4,
 "nbformat_minor": 5
}

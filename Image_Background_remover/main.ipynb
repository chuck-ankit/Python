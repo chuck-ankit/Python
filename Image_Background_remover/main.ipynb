{
 "cells": [
  {
   "cell_type": "code",
   "execution_count": 3,
   "metadata": {},
   "outputs": [],
   "source": [
    "\n",
    "from rembg import remove\n",
    "import requests\n",
    "from PIL import Image\n",
    "from io import BytesIO\n",
    "import os\n",
    "\n"
   ]
  },
  {
   "cell_type": "code",
   "execution_count": 5,
   "metadata": {},
   "outputs": [],
   "source": [
    "os.makedirs('original', exist_ok= True)\n",
    "os.makedirs('masked',exist_ok=True)\n"
   ]
  },
  {
   "cell_type": "code",
   "execution_count": null,
   "metadata": {},
   "outputs": [],
   "source": []
  },
  {
   "cell_type": "code",
   "execution_count": 12,
   "metadata": {},
   "outputs": [],
   "source": [
    "img = Image.open(\"C://GitHub/Python/Image_Background_remover/image.JPG\")\n",
    "img.save('C://GitHub/Python/Image_Background_remover/original/'+\"dkvjk\",format='jpeg')"
   ]
  },
  {
   "cell_type": "code",
   "execution_count": 13,
   "metadata": {},
   "outputs": [
    {
     "data": {
      "text/plain": [
       "'masked/image_output'"
      ]
     },
     "execution_count": 13,
     "metadata": {},
     "output_type": "execute_result"
    }
   ],
   "source": [
    "output_path = 'masked/'+\"image_output\"\n",
    "output_path"
   ]
  },
  {
   "cell_type": "code",
   "execution_count": 17,
   "metadata": {},
   "outputs": [
    {
     "ename": "TypeError",
     "evalue": "retrieve() got an unexpected keyword argument 'progressbar'",
     "output_type": "error",
     "traceback": [
      "\u001b[1;31m---------------------------------------------------------------------------\u001b[0m",
      "\u001b[1;31mTypeError\u001b[0m                                 Traceback (most recent call last)",
      "\u001b[1;32mc:\\GitHub\\Python\\Image_Background_remover\\main.ipynb Cell 6\u001b[0m line \u001b[0;36m3\n\u001b[0;32m      <a href='vscode-notebook-cell:/c%3A/GitHub/Python/Image_Background_remover/main.ipynb#W5sZmlsZQ%3D%3D?line=0'>1</a>\u001b[0m \u001b[39mwith\u001b[39;00m \u001b[39mopen\u001b[39m(output_path,\u001b[39m\"\u001b[39m\u001b[39mwb\u001b[39m\u001b[39m\"\u001b[39m) \u001b[39mas\u001b[39;00m f:\n\u001b[0;32m      <a href='vscode-notebook-cell:/c%3A/GitHub/Python/Image_Background_remover/main.ipynb#W5sZmlsZQ%3D%3D?line=1'>2</a>\u001b[0m      \u001b[39minput\u001b[39m \u001b[39m=\u001b[39m \u001b[39mopen\u001b[39m(\u001b[39m'\u001b[39m\u001b[39moriginal/\u001b[39m\u001b[39m'\u001b[39m\u001b[39m+\u001b[39m\u001b[39m\"\u001b[39m\u001b[39mdkvjk\u001b[39m\u001b[39m\"\u001b[39m, \u001b[39m'\u001b[39m\u001b[39mrb\u001b[39m\u001b[39m'\u001b[39m)\u001b[39m.\u001b[39mread()\n\u001b[1;32m----> <a href='vscode-notebook-cell:/c%3A/GitHub/Python/Image_Background_remover/main.ipynb#W5sZmlsZQ%3D%3D?line=2'>3</a>\u001b[0m      subject \u001b[39m=\u001b[39m remove(\u001b[39minput\u001b[39;49m, alpha_matting\u001b[39m=\u001b[39;49m\u001b[39mTrue\u001b[39;49;00m)\n\u001b[0;32m      <a href='vscode-notebook-cell:/c%3A/GitHub/Python/Image_Background_remover/main.ipynb#W5sZmlsZQ%3D%3D?line=3'>4</a>\u001b[0m      f\u001b[39m.\u001b[39mwrite(subject)\n",
      "File \u001b[1;32mc:\\ProgramData\\anaconda3\\envs\\SuperEnv\\lib\\site-packages\\rembg\\bg.py:162\u001b[0m, in \u001b[0;36mremove\u001b[1;34m(data, alpha_matting, alpha_matting_foreground_threshold, alpha_matting_background_threshold, alpha_matting_erode_size, session, only_mask, post_process_mask, bgcolor, *args, **kwargs)\u001b[0m\n\u001b[0;32m    159\u001b[0m img \u001b[39m=\u001b[39m fix_image_orientation(img)\n\u001b[0;32m    161\u001b[0m \u001b[39mif\u001b[39;00m session \u001b[39mis\u001b[39;00m \u001b[39mNone\u001b[39;00m:\n\u001b[1;32m--> 162\u001b[0m     session \u001b[39m=\u001b[39m new_session(\u001b[39m\"\u001b[39m\u001b[39mu2net\u001b[39m\u001b[39m\"\u001b[39m, \u001b[39m*\u001b[39margs, \u001b[39m*\u001b[39m\u001b[39m*\u001b[39mkwargs)\n\u001b[0;32m    164\u001b[0m masks \u001b[39m=\u001b[39m session\u001b[39m.\u001b[39mpredict(img, \u001b[39m*\u001b[39margs, \u001b[39m*\u001b[39m\u001b[39m*\u001b[39mkwargs)\n\u001b[0;32m    165\u001b[0m cutouts \u001b[39m=\u001b[39m []\n",
      "File \u001b[1;32mc:\\ProgramData\\anaconda3\\envs\\SuperEnv\\lib\\site-packages\\rembg\\session_factory.py:26\u001b[0m, in \u001b[0;36mnew_session\u001b[1;34m(model_name, providers, *args, **kwargs)\u001b[0m\n\u001b[0;32m     23\u001b[0m \u001b[39mif\u001b[39;00m \u001b[39m\"\u001b[39m\u001b[39mOMP_NUM_THREADS\u001b[39m\u001b[39m\"\u001b[39m \u001b[39min\u001b[39;00m os\u001b[39m.\u001b[39menviron:\n\u001b[0;32m     24\u001b[0m     sess_opts\u001b[39m.\u001b[39minter_op_num_threads \u001b[39m=\u001b[39m \u001b[39mint\u001b[39m(os\u001b[39m.\u001b[39menviron[\u001b[39m\"\u001b[39m\u001b[39mOMP_NUM_THREADS\u001b[39m\u001b[39m\"\u001b[39m])\n\u001b[1;32m---> 26\u001b[0m \u001b[39mreturn\u001b[39;00m session_class(model_name, sess_opts, providers, \u001b[39m*\u001b[39margs, \u001b[39m*\u001b[39m\u001b[39m*\u001b[39mkwargs)\n",
      "File \u001b[1;32mc:\\ProgramData\\anaconda3\\envs\\SuperEnv\\lib\\site-packages\\rembg\\sessions\\base.py:32\u001b[0m, in \u001b[0;36mBaseSession.__init__\u001b[1;34m(self, model_name, sess_opts, providers, *args, **kwargs)\u001b[0m\n\u001b[0;32m     28\u001b[0m \u001b[39melse\u001b[39;00m:\n\u001b[0;32m     29\u001b[0m     \u001b[39mself\u001b[39m\u001b[39m.\u001b[39mproviders\u001b[39m.\u001b[39mextend(_providers)\n\u001b[0;32m     31\u001b[0m \u001b[39mself\u001b[39m\u001b[39m.\u001b[39minner_session \u001b[39m=\u001b[39m ort\u001b[39m.\u001b[39mInferenceSession(\n\u001b[1;32m---> 32\u001b[0m     \u001b[39mstr\u001b[39m(\u001b[39mself\u001b[39m\u001b[39m.\u001b[39m\u001b[39m__class__\u001b[39m\u001b[39m.\u001b[39mdownload_models(\u001b[39m*\u001b[39margs, \u001b[39m*\u001b[39m\u001b[39m*\u001b[39mkwargs)),\n\u001b[0;32m     33\u001b[0m     providers\u001b[39m=\u001b[39m\u001b[39mself\u001b[39m\u001b[39m.\u001b[39mproviders,\n\u001b[0;32m     34\u001b[0m     sess_options\u001b[39m=\u001b[39msess_opts,\n\u001b[0;32m     35\u001b[0m )\n",
      "File \u001b[1;32mc:\\ProgramData\\anaconda3\\envs\\SuperEnv\\lib\\site-packages\\rembg\\sessions\\u2net.py:37\u001b[0m, in \u001b[0;36mU2netSession.download_models\u001b[1;34m(cls, *args, **kwargs)\u001b[0m\n\u001b[0;32m     34\u001b[0m \u001b[39m@classmethod\u001b[39m\n\u001b[0;32m     35\u001b[0m \u001b[39mdef\u001b[39;00m \u001b[39mdownload_models\u001b[39m(\u001b[39mcls\u001b[39m, \u001b[39m*\u001b[39margs, \u001b[39m*\u001b[39m\u001b[39m*\u001b[39mkwargs):\n\u001b[0;32m     36\u001b[0m     fname \u001b[39m=\u001b[39m \u001b[39mf\u001b[39m\u001b[39m\"\u001b[39m\u001b[39m{\u001b[39;00m\u001b[39mcls\u001b[39m\u001b[39m.\u001b[39mname(\u001b[39m*\u001b[39margs,\u001b[39m \u001b[39m\u001b[39m*\u001b[39m\u001b[39m*\u001b[39mkwargs)\u001b[39m}\u001b[39;00m\u001b[39m.onnx\u001b[39m\u001b[39m\"\u001b[39m\n\u001b[1;32m---> 37\u001b[0m     pooch\u001b[39m.\u001b[39;49mretrieve(\n\u001b[0;32m     38\u001b[0m         \u001b[39m\"\u001b[39;49m\u001b[39mhttps://github.com/danielgatis/rembg/releases/download/v0.0.0/u2net.onnx\u001b[39;49m\u001b[39m\"\u001b[39;49m,\n\u001b[0;32m     39\u001b[0m         \u001b[39mNone\u001b[39;49;00m\n\u001b[0;32m     40\u001b[0m         \u001b[39mif\u001b[39;49;00m \u001b[39mcls\u001b[39;49m\u001b[39m.\u001b[39;49mchecksum_disabled(\u001b[39m*\u001b[39;49margs, \u001b[39m*\u001b[39;49m\u001b[39m*\u001b[39;49mkwargs)\n\u001b[0;32m     41\u001b[0m         \u001b[39melse\u001b[39;49;00m \u001b[39m\"\u001b[39;49m\u001b[39mmd5:60024c5c889badc19c04ad937298a77b\u001b[39;49m\u001b[39m\"\u001b[39;49m,\n\u001b[0;32m     42\u001b[0m         fname\u001b[39m=\u001b[39;49mfname,\n\u001b[0;32m     43\u001b[0m         path\u001b[39m=\u001b[39;49m\u001b[39mcls\u001b[39;49m\u001b[39m.\u001b[39;49mu2net_home(\u001b[39m*\u001b[39;49margs, \u001b[39m*\u001b[39;49m\u001b[39m*\u001b[39;49mkwargs),\n\u001b[0;32m     44\u001b[0m         progressbar\u001b[39m=\u001b[39;49m\u001b[39mTrue\u001b[39;49;00m,\n\u001b[0;32m     45\u001b[0m     )\n\u001b[0;32m     47\u001b[0m     \u001b[39mreturn\u001b[39;00m os\u001b[39m.\u001b[39mpath\u001b[39m.\u001b[39mjoin(\u001b[39mcls\u001b[39m\u001b[39m.\u001b[39mu2net_home(\u001b[39m*\u001b[39margs, \u001b[39m*\u001b[39m\u001b[39m*\u001b[39mkwargs), fname)\n",
      "\u001b[1;31mTypeError\u001b[0m: retrieve() got an unexpected keyword argument 'progressbar'"
     ]
    }
   ],
   "source": [
    "with open(output_path,\"wb\") as f:\n",
    "     input = open('original/'+\"dkvjk\", 'rb').read()\n",
    "     subject = remove(input, alpha_matting=True)\n",
    "     f.write(subject)"
   ]
  },
  {
   "cell_type": "code",
   "execution_count": null,
   "metadata": {},
   "outputs": [],
   "source": []
  }
 ],
 "metadata": {
  "kernelspec": {
   "display_name": "SuperEnv",
   "language": "python",
   "name": "python3"
  },
  "language_info": {
   "codemirror_mode": {
    "name": "ipython",
    "version": 3
   },
   "file_extension": ".py",
   "mimetype": "text/x-python",
   "name": "python",
   "nbconvert_exporter": "python",
   "pygments_lexer": "ipython3",
   "version": "3.10.13"
  },
  "orig_nbformat": 4
 },
 "nbformat": 4,
 "nbformat_minor": 2
}

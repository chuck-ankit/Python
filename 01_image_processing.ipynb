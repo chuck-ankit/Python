{
 "cells": [
  {
   "cell_type": "markdown",
   "metadata": {},
   "source": [
    "Computer Vision Lab 29_03_23 \n"
   ]
  },
  {
   "cell_type": "code",
   "execution_count": 3,
   "metadata": {},
   "outputs": [],
   "source": [
    "\n",
    "\n",
    "from PIL import Image,ImageFilter\n",
    "\n",
    "im = Image.open('face1.jpg')\n",
    "im2 = im.filter(ImageFilter.MaxFilter(size =  5))\n",
    "im2.show()\n"
   ]
  },
  {
   "cell_type": "code",
   "execution_count": 4,
   "metadata": {},
   "outputs": [],
   "source": [
    "from PIL import Image,ImageFilter\n",
    "im = Image.open('face1.jpg')\n",
    "im2 = im.filter(ImageFilter.MinFilter(size = 7))\n",
    "im2.show()"
   ]
  },
  {
   "cell_type": "code",
   "execution_count": 5,
   "metadata": {},
   "outputs": [],
   "source": [
    "im1 = Image.open(\"face.jpg\")\n",
    "\n",
    "im2 = im1.filter(ImageFilter.GaussianBlur(radius=3))\n",
    "im.show()"
   ]
  },
  {
   "cell_type": "code",
   "execution_count": null,
   "metadata": {},
   "outputs": [],
   "source": []
  }
 ],
 "metadata": {
  "interpreter": {
   "hash": "393ae0a21f5c7ca1a8172cfb0e66661474fc474d321cf89615bfda1c2b4db9ce"
  },
  "kernelspec": {
   "display_name": "Python 3.11.0 64-bit ('env_testpython': conda)",
   "language": "python",
   "name": "python3"
  },
  "language_info": {
   "codemirror_mode": {
    "name": "ipython",
    "version": 3
   },
   "file_extension": ".py",
   "mimetype": "text/x-python",
   "name": "python",
   "nbconvert_exporter": "python",
   "pygments_lexer": "ipython3",
   "version": "3.11.0"
  },
  "orig_nbformat": 4
 },
 "nbformat": 4,
 "nbformat_minor": 2
}

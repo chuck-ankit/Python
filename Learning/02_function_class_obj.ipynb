{
 "cells": [
  {
   "cell_type": "markdown",
   "id": "816d5094",
   "metadata": {},
   "source": [
    "## User Defined function "
   ]
  },
  {
   "cell_type": "code",
   "execution_count": null,
   "id": "c2663e02",
   "metadata": {},
   "outputs": [],
   "source": [
    "# Syntax\n",
    "def func_name(arg1, arg2, arg3,....):\n",
    "    statement\n",
    "    return \n",
    "[expression]"
   ]
  },
  {
   "cell_type": "code",
   "execution_count": 1,
   "id": "7d18183a",
   "metadata": {},
   "outputs": [],
   "source": [
    "def add(a,b):\n",
    "    sum = a+b\n",
    "    return sum"
   ]
  },
  {
   "cell_type": "markdown",
   "id": "f70e7cb2",
   "metadata": {},
   "source": [
    "Call by Value in Python\n",
    "\n",
    "When Immutable objects such as whole numbers, strings, etc are passed as arguments to the function call, the it can be considered as Call by Value.\n",
    "This is because when the values are modified within the function, then the changes do not get reflected outside the function."
   ]
  },
  {
   "cell_type": "code",
   "execution_count": 2,
   "id": "e770e6a1",
   "metadata": {},
   "outputs": [
    {
     "name": "stdout",
     "output_type": "stream",
     "text": [
      "Initial number:  13\n",
      "Value received in 'a' = 13\n",
      "Value of 'a' changes to : 15\n",
      "Value of number=  13\n"
     ]
    }
   ],
   "source": [
    "\n",
    "def myFunc(a):\n",
    " print(\"Value received in 'a' =\", a)\n",
    " a+=2\n",
    " print(\"Value of 'a' changes to :\",a)\n",
    " \n",
    "num=13\n",
    "print(\"Initial number: \", num)\n",
    "myFunc(num)\n",
    "print(\"Value of number= \", num)\n",
    "\n"
   ]
  },
  {
   "cell_type": "markdown",
   "id": "56352292",
   "metadata": {},
   "source": [
    "Call by Reference in Python\n",
    "\n",
    "\n",
    "When Mutable objects such as list, dict, set, etc., are passed as arguments \n",
    "to the function call, it can be called Call by reference in Python. When the \n",
    "values aremodified within the function, the change also gets reflected outside\n",
    "the function."
   ]
  },
  {
   "cell_type": "code",
   "execution_count": 4,
   "id": "a337cacf",
   "metadata": {},
   "outputs": [
    {
     "name": "stdout",
     "output_type": "stream",
     "text": [
      "List before function call : [1]\n",
      "List received:  [1]\n",
      "List after adding some elements: [1, 3, 7, 1]\n",
      "List within called function: [1, 3, 1]\n",
      "List after function call:  [1, 3, 1]\n"
     ]
    }
   ],
   "source": [
    "def myFunc(myList):\n",
    " print(\"List received: \",myList)\n",
    " myList.append(3)\n",
    " myList.extend([7,1])\n",
    " print(\"List after adding some elements:\", myList)\n",
    " myList.remove(7)\n",
    " print(\"List within called function:\", myList)\n",
    " return\n",
    " \n",
    "List1=[1]\n",
    "print(\"List before function call :\",List1)\n",
    "myFunc(List1)\n",
    "print(\"List after function call: \",List1)"
   ]
  },
  {
   "cell_type": "markdown",
   "id": "e6f38310",
   "metadata": {},
   "source": [
    "## Lambda Function\n",
    "Lambda functions are similar to user-defined functions but without a name. They're commonly referred to as anonymous functions. "
   ]
  },
  {
   "cell_type": "code",
   "execution_count": 8,
   "id": "c64e6c64",
   "metadata": {},
   "outputs": [
    {
     "data": {
      "text/plain": [
       "16"
      ]
     },
     "execution_count": 8,
     "metadata": {},
     "output_type": "execute_result"
    }
   ],
   "source": [
    "r = lambda x, y: x * y\n",
    "a = lambda c, d: c + d\n",
    "r(12,3) #Call the lambda function\n",
    "a(11,5) #Calling the second lamda function"
   ]
  },
  {
   "cell_type": "code",
   "execution_count": 9,
   "id": "10dc5b1f",
   "metadata": {},
   "outputs": [
    {
     "name": "stdout",
     "output_type": "stream",
     "text": [
      "Hey !\n"
     ]
    }
   ],
   "source": [
    "# nested functions \n",
    "def outerFunction(text): \n",
    "    text = text \n",
    "    \n",
    "    def innerFunction(): \n",
    "        print(text) \n",
    "    \n",
    "    innerFunction() \n",
    "    \n",
    "if __name__ == '__main__': \n",
    "    outerFunction('Hey !') "
   ]
  },
  {
   "cell_type": "markdown",
   "id": "3c5cba0e",
   "metadata": {},
   "source": [
    "# Class/Object\n"
   ]
  },
  {
   "cell_type": "code",
   "execution_count": 12,
   "id": "9fb854ae",
   "metadata": {},
   "outputs": [
    {
     "name": "stdout",
     "output_type": "stream",
     "text": [
      "5\n"
     ]
    }
   ],
   "source": [
    "class MyClass:\n",
    "  x = 5\n",
    "\n",
    "p1 = MyClass()\n",
    "print(p1.x)"
   ]
  },
  {
   "cell_type": "code",
   "execution_count": 18,
   "id": "02b994e8",
   "metadata": {},
   "outputs": [
    {
     "name": "stdout",
     "output_type": "stream",
     "text": [
      "<__main__.Person object at 0x000001FC8EE59D50>\n"
     ]
    }
   ],
   "source": [
    "class Person:\n",
    "  def __init__(self, name, age):\n",
    "    self.name = name\n",
    "    self.age = age\n",
    "\n",
    "p1 = Person(\"John\", 36)\n",
    "\n",
    "print(p1)"
   ]
  },
  {
   "cell_type": "markdown",
   "id": "06457d0a",
   "metadata": {},
   "source": [
    "# Python File handling\n",
    "\n",
    "\"r\" - Read\n",
    "\n",
    "\"a\" - append\n",
    "\n",
    "\"w\" - write\n",
    "\n",
    "\"x\" - create"
   ]
  },
  {
   "cell_type": "code",
   "execution_count": 21,
   "id": "17b68fc1",
   "metadata": {},
   "outputs": [
    {
     "name": "stdout",
     "output_type": "stream",
     "text": [
      "<_io.TextIOWrapper name='C:/GitHub/Project/rough/names.txt' mode='r' encoding='cp1252'>\n"
     ]
    }
   ],
   "source": [
    "\n",
    "f = open(\"C:/GitHub/Project/rough/names.txt\",\"r\")\n",
    "print(f)"
   ]
  },
  {
   "cell_type": "code",
   "execution_count": 22,
   "id": "ef025344",
   "metadata": {},
   "outputs": [],
   "source": [
    "test_txt = open(\"C:/GitHub/Python/Miscellaneous/Learning/testfile.txt\",\"w\")"
   ]
  },
  {
   "cell_type": "code",
   "execution_count": 25,
   "id": "d0963af2",
   "metadata": {},
   "outputs": [
    {
     "name": "stdout",
     "output_type": "stream",
     "text": [
      "Hello Everyone !\n",
      "\n",
      "Jai Shree Ram\n",
      "\n",
      "\n"
     ]
    }
   ],
   "source": [
    "test_text = open(\"C:/GitHub/Python/Miscellaneous/Learning/testfile.txt\",\"r\")\n",
    "print(test_text.read())"
   ]
  },
  {
   "cell_type": "code",
   "execution_count": 38,
   "id": "d8d7c9ee",
   "metadata": {},
   "outputs": [
    {
     "name": "stdout",
     "output_type": "stream",
     "text": [
      "Hello Everyone !\n",
      "\n"
     ]
    }
   ],
   "source": [
    "test_text = open(\"C:/GitHub/Python/Miscellaneous/Learning/testfile.txt\",\"r\")\n",
    "print(test_text.readline())#Prints the first line"
   ]
  },
  {
   "cell_type": "code",
   "execution_count": 39,
   "id": "ee26e56a",
   "metadata": {},
   "outputs": [
    {
     "name": "stdout",
     "output_type": "stream",
     "text": [
      "Hello\n"
     ]
    }
   ],
   "source": [
    "test_text = open(\"C:/GitHub/Python/Miscellaneous/Learning/testfile.txt\",\"r\")\n",
    "print(test_text.read(5))# Prints the first 5 characters from the text"
   ]
  },
  {
   "cell_type": "code",
   "execution_count": null,
   "id": "175a73c2",
   "metadata": {},
   "outputs": [],
   "source": [
    "#reading line by line"
   ]
  }
 ],
 "metadata": {
  "kernelspec": {
   "display_name": "SuperEnv",
   "language": "python",
   "name": "superenv"
  },
  "language_info": {
   "codemirror_mode": {
    "name": "ipython",
    "version": 3
   },
   "file_extension": ".py",
   "mimetype": "text/x-python",
   "name": "python",
   "nbconvert_exporter": "python",
   "pygments_lexer": "ipython3",
   "version": "3.10.13"
  }
 },
 "nbformat": 4,
 "nbformat_minor": 5
}

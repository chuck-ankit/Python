{
 "cells": [
  {
   "cell_type": "code",
   "execution_count": 5,
   "id": "e9d536ac",
   "metadata": {},
   "outputs": [
    {
     "ename": "SyntaxError",
     "evalue": "invalid syntax (1549292357.py, line 7)",
     "output_type": "error",
     "traceback": [
      "\u001b[1;36m  Cell \u001b[1;32mIn[5], line 7\u001b[1;36m\u001b[0m\n\u001b[1;33m    def preprocess_video(\"C:\\GitHub\\Python\\ML_DS_missclinious\\Exclusive_Palki_Sharma.mp4\"):\u001b[0m\n\u001b[1;37m                         ^\u001b[0m\n\u001b[1;31mSyntaxError\u001b[0m\u001b[1;31m:\u001b[0m invalid syntax\n"
     ]
    }
   ],
   "source": [
    "import cv2\n",
    "import numpy as np\n",
    "from tensorflow.keras.models import Sequential\n",
    "from tensorflow.keras.layers import LSTM, Dense\n",
    "\n",
    "# Preprocessing and feature extraction\n",
    "def preprocess_video(\"C:\\GitHub\\Python\\ML_DS_missclinious\\Exclusive_Palki_Sharma.mp4\"):\n",
    "    frames = []\n",
    "    cap = cv2.VideoCapture(\"C:\\GitHub\\Python\\ML_DS_missclinious\\Exclusive_Palki_Sharma.mp4\")\n",
    "\n",
    "    while cap.isOpened():\n",
    "        ret, frame = cap.read()\n",
    "        if not ret:\n",
    "            break\n",
    "        \n",
    "        # Preprocess the frame (e.g., resize, normalize, convert to grayscale)\n",
    "        # ...\n",
    "\n",
    "        frames.append(preprocessed_frame)\n",
    "\n",
    "    cap.release()\n",
    "\n",
    "    return frames\n",
    "\n",
    "def extract_features(frames):\n",
    "    # Extract features using LSTM\n",
    "    # ...\n",
    "\n",
    "    return features\n",
    "\n",
    "# Load and preprocess training data\n",
    "video_path = 'Exclusive_Palki Sharma.mp4'\n",
    "labels = [0, 1, 0, 1, 0]  # Example labels for training data\n",
    "frames = preprocess_video(Exclusive _ Palki Sharma.mp4)\n",
    "features = extract_features(frames)\n",
    "\n",
    "# Model training\n",
    "model = Sequential()\n",
    "model.add(LSTM(units=128, input_shape=(None, feature_dim)))  # Modify feature_dim based on your extracted features\n",
    "model.add(Dense(units=1, activation='sigmoid'))\n",
    "\n",
    "model.compile(optimizer='adam', loss='binary_crossentropy', metrics=['accuracy'])\n",
    "model.fit(np.array([features]), np.array(labels), epochs=10, batch_size=1)\n",
    "\n",
    "# Predicting on new data\n",
    "new_video_path = 'Vantage_with_Palki_Sharma.mp4'\n",
    "new_frames = preprocess_video(\"C:\\GitHub\\Python\\ML_DS_missclinious\\Vantage_with_Palki_Sharma.mp4\")\n",
    "new_features = extract_features(new_frames)\n",
    "prediction = model.predict(np.array([new_features]))\n",
    "\n",
    "# Perform analysis based on the prediction\n",
    "# ...\n"
   ]
  },
  {
   "cell_type": "code",
   "execution_count": null,
   "id": "e548442f",
   "metadata": {},
   "outputs": [],
   "source": []
  }
 ],
 "metadata": {
  "kernelspec": {
   "display_name": "SuperEnv",
   "language": "python",
   "name": "superenv"
  },
  "language_info": {
   "codemirror_mode": {
    "name": "ipython",
    "version": 3
   },
   "file_extension": ".py",
   "mimetype": "text/x-python",
   "name": "python",
   "nbconvert_exporter": "python",
   "pygments_lexer": "ipython3",
   "version": "3.10.13"
  }
 },
 "nbformat": 4,
 "nbformat_minor": 5
}
